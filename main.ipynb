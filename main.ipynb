{
 "cells": [
  {
   "cell_type": "markdown",
   "id": "19fe301d",
   "metadata": {},
   "source": [
    "# Цель работы\n",
    "1. Проанализировать данные на наличие аномалий и полезности информации\n",
    "2. Построить модели машинного обучения для классификации пассажиров\n",
    "3. Сравнить модели и сделать вывод по проделанной работе"
   ]
  },
  {
   "cell_type": "code",
   "execution_count": 1,
   "id": "fcd3ba3a",
   "metadata": {},
   "outputs": [
    {
     "name": "stderr",
     "output_type": "stream",
     "text": [
      "C:\\Users\\denis\\anaconda3\\lib\\site-packages\\scipy\\__init__.py:146: UserWarning: A NumPy version >=1.16.5 and <1.23.0 is required for this version of SciPy (detected version 1.24.3\n",
      "  warnings.warn(f\"A NumPy version >={np_minversion} and <{np_maxversion}\"\n"
     ]
    }
   ],
   "source": [
    "# Для работы с датасетом\n",
    "import numpy as np\n",
    "import pandas as pd\n",
    "\n",
    "# Для отрисовки графиков\n",
    "import matplotlib.pyplot as plt\n",
    "import seaborn as sns\n",
    "\n",
    "from sklearn.preprocessing import OrdinalEncoder # Класс для кодирования данных\n",
    "from sklearn.metrics import accuracy_score, confusion_matrix, classification_report\n",
    "\n",
    "# Для работы с нейронными сетями\n",
    "import torch\n",
    "import torch.nn as nn\n",
    "import torch.nn.functional as F\n",
    "from torch.autograd import Variable"
   ]
  },
  {
   "cell_type": "markdown",
   "id": "84274775",
   "metadata": {},
   "source": [
    "# Предобработка данных"
   ]
  },
  {
   "cell_type": "code",
   "execution_count": 2,
   "id": "f3812fc5",
   "metadata": {},
   "outputs": [
    {
     "name": "stdout",
     "output_type": "stream",
     "text": [
      "891 x 12\n"
     ]
    },
    {
     "data": {
      "text/html": [
       "<div>\n",
       "<style scoped>\n",
       "    .dataframe tbody tr th:only-of-type {\n",
       "        vertical-align: middle;\n",
       "    }\n",
       "\n",
       "    .dataframe tbody tr th {\n",
       "        vertical-align: top;\n",
       "    }\n",
       "\n",
       "    .dataframe thead th {\n",
       "        text-align: right;\n",
       "    }\n",
       "</style>\n",
       "<table border=\"1\" class=\"dataframe\">\n",
       "  <thead>\n",
       "    <tr style=\"text-align: right;\">\n",
       "      <th></th>\n",
       "      <th>PassengerId</th>\n",
       "      <th>Survived</th>\n",
       "      <th>Pclass</th>\n",
       "      <th>Name</th>\n",
       "      <th>Sex</th>\n",
       "      <th>Age</th>\n",
       "      <th>SibSp</th>\n",
       "      <th>Parch</th>\n",
       "      <th>Ticket</th>\n",
       "      <th>Fare</th>\n",
       "      <th>Cabin</th>\n",
       "      <th>Embarked</th>\n",
       "    </tr>\n",
       "  </thead>\n",
       "  <tbody>\n",
       "    <tr>\n",
       "      <th>0</th>\n",
       "      <td>1</td>\n",
       "      <td>0</td>\n",
       "      <td>3</td>\n",
       "      <td>Braund, Mr. Owen Harris</td>\n",
       "      <td>male</td>\n",
       "      <td>22.0</td>\n",
       "      <td>1</td>\n",
       "      <td>0</td>\n",
       "      <td>A/5 21171</td>\n",
       "      <td>7.2500</td>\n",
       "      <td>NaN</td>\n",
       "      <td>S</td>\n",
       "    </tr>\n",
       "    <tr>\n",
       "      <th>1</th>\n",
       "      <td>2</td>\n",
       "      <td>1</td>\n",
       "      <td>1</td>\n",
       "      <td>Cumings, Mrs. John Bradley (Florence Briggs Th...</td>\n",
       "      <td>female</td>\n",
       "      <td>38.0</td>\n",
       "      <td>1</td>\n",
       "      <td>0</td>\n",
       "      <td>PC 17599</td>\n",
       "      <td>71.2833</td>\n",
       "      <td>C85</td>\n",
       "      <td>C</td>\n",
       "    </tr>\n",
       "    <tr>\n",
       "      <th>2</th>\n",
       "      <td>3</td>\n",
       "      <td>1</td>\n",
       "      <td>3</td>\n",
       "      <td>Heikkinen, Miss. Laina</td>\n",
       "      <td>female</td>\n",
       "      <td>26.0</td>\n",
       "      <td>0</td>\n",
       "      <td>0</td>\n",
       "      <td>STON/O2. 3101282</td>\n",
       "      <td>7.9250</td>\n",
       "      <td>NaN</td>\n",
       "      <td>S</td>\n",
       "    </tr>\n",
       "    <tr>\n",
       "      <th>3</th>\n",
       "      <td>4</td>\n",
       "      <td>1</td>\n",
       "      <td>1</td>\n",
       "      <td>Futrelle, Mrs. Jacques Heath (Lily May Peel)</td>\n",
       "      <td>female</td>\n",
       "      <td>35.0</td>\n",
       "      <td>1</td>\n",
       "      <td>0</td>\n",
       "      <td>113803</td>\n",
       "      <td>53.1000</td>\n",
       "      <td>C123</td>\n",
       "      <td>S</td>\n",
       "    </tr>\n",
       "    <tr>\n",
       "      <th>4</th>\n",
       "      <td>5</td>\n",
       "      <td>0</td>\n",
       "      <td>3</td>\n",
       "      <td>Allen, Mr. William Henry</td>\n",
       "      <td>male</td>\n",
       "      <td>35.0</td>\n",
       "      <td>0</td>\n",
       "      <td>0</td>\n",
       "      <td>373450</td>\n",
       "      <td>8.0500</td>\n",
       "      <td>NaN</td>\n",
       "      <td>S</td>\n",
       "    </tr>\n",
       "  </tbody>\n",
       "</table>\n",
       "</div>"
      ],
      "text/plain": [
       "   PassengerId  Survived  Pclass  \\\n",
       "0            1         0       3   \n",
       "1            2         1       1   \n",
       "2            3         1       3   \n",
       "3            4         1       1   \n",
       "4            5         0       3   \n",
       "\n",
       "                                                Name     Sex   Age  SibSp  \\\n",
       "0                            Braund, Mr. Owen Harris    male  22.0      1   \n",
       "1  Cumings, Mrs. John Bradley (Florence Briggs Th...  female  38.0      1   \n",
       "2                             Heikkinen, Miss. Laina  female  26.0      0   \n",
       "3       Futrelle, Mrs. Jacques Heath (Lily May Peel)  female  35.0      1   \n",
       "4                           Allen, Mr. William Henry    male  35.0      0   \n",
       "\n",
       "   Parch            Ticket     Fare Cabin Embarked  \n",
       "0      0         A/5 21171   7.2500   NaN        S  \n",
       "1      0          PC 17599  71.2833   C85        C  \n",
       "2      0  STON/O2. 3101282   7.9250   NaN        S  \n",
       "3      0            113803  53.1000  C123        S  \n",
       "4      0            373450   8.0500   NaN        S  "
      ]
     },
     "execution_count": 2,
     "metadata": {},
     "output_type": "execute_result"
    }
   ],
   "source": [
    "df = pd.read_csv('train.csv')\n",
    "print(len(df), 'x', len(df.T))\n",
    "df.head()"
   ]
  },
  {
   "cell_type": "markdown",
   "id": "b129dfbb",
   "metadata": {},
   "source": [
    "Загрузим датасет с данными о том, кто из пассажиров выжил"
   ]
  },
  {
   "cell_type": "markdown",
   "id": "66ed28b9",
   "metadata": {},
   "source": [
    "## Работа с пустыми значениями"
   ]
  },
  {
   "cell_type": "code",
   "execution_count": 3,
   "id": "7098c308",
   "metadata": {},
   "outputs": [
    {
     "data": {
      "text/plain": [
       "<AxesSubplot:>"
      ]
     },
     "execution_count": 3,
     "metadata": {},
     "output_type": "execute_result"
    },
    {
     "data": {
      "image/png": "[encoded data removed]",
      "text/plain": [
       "<Figure size 864x864 with 1 Axes>"
      ]
     },
     "metadata": {
      "needs_background": "light"
     },
     "output_type": "display_data"
    }
   ],
   "source": [
    "# Строим график, чтобы посмотреть нулевые значения в столбцах\n",
    "plt.figure(figsize = (12,12))\n",
    "sns.heatmap(df.isnull(), cbar=False)"
   ]
  },
  {
   "cell_type": "markdown",
   "id": "208a8fe7",
   "metadata": {},
   "source": [
    "Удалим столбцы \"Age\" и \"Cabin\" так как в них слишком много пустых значений и строки, где пропущено значение столбца \"Embarked\""
   ]
  },
  {
   "cell_type": "code",
   "execution_count": 4,
   "id": "4471d0ca",
   "metadata": {},
   "outputs": [],
   "source": [
    "df.drop(['Age', 'Cabin'], inplace = True, axis = 1) # Удаляем ненужные столбцы\n",
    "df.dropna(inplace = True) # Удаляем 2 строки с пустыми значениями\n",
    "df = df.reset_index(drop = True) # Сбрасываем индексы"
   ]
  },
  {
   "cell_type": "markdown",
   "id": "394b903c",
   "metadata": {},
   "source": [
    "Заменим пустые значения в столбце 'Fare' средним значением по столбцу"
   ]
  },
  {
   "cell_type": "code",
   "execution_count": 5,
   "id": "a761b08b",
   "metadata": {},
   "outputs": [
    {
     "name": "stderr",
     "output_type": "stream",
     "text": [
      "C:\\Users\\denis\\AppData\\Local\\Temp/ipykernel_11072/3854949949.py:1: SettingWithCopyWarning: \n",
      "A value is trying to be set on a copy of a slice from a DataFrame\n",
      "\n",
      "See the caveats in the documentation: https://pandas.pydata.org/pandas-docs/stable/user_guide/indexing.html#returning-a-view-versus-a-copy\n",
      "  df['Fare'][df['Fare'].isnull()] = df['Fare'].mean()\n"
     ]
    }
   ],
   "source": [
    "df['Fare'][df['Fare'].isnull()] = df['Fare'].mean()"
   ]
  },
  {
   "cell_type": "code",
   "execution_count": 6,
   "id": "bc0d29bb",
   "metadata": {},
   "outputs": [
    {
     "data": {
      "text/plain": [
       "<AxesSubplot:>"
      ]
     },
     "execution_count": 6,
     "metadata": {},
     "output_type": "execute_result"
    },
    {
     "data": {
      "image/png": "[encoded data removed]",
      "text/plain": [
       "<Figure size 864x864 with 1 Axes>"
      ]
     },
     "metadata": {
      "needs_background": "light"
     },
     "output_type": "display_data"
    }
   ],
   "source": [
    "# Строим еще раз график, чтобы убедиться в отсутствии пустых значений\n",
    "plt.figure(figsize = (12,12))\n",
    "sns.heatmap(df.isnull(), cbar=False)"
   ]
  },
  {
   "cell_type": "markdown",
   "id": "2afe30b7",
   "metadata": {},
   "source": [
    "## Работа с категориальными данными"
   ]
  },
  {
   "cell_type": "code",
   "execution_count": 7,
   "id": "3e68173b",
   "metadata": {},
   "outputs": [
    {
     "name": "stdout",
     "output_type": "stream",
     "text": [
      "Name - 889 уникальных значений в столбце\n",
      "Sex - 2 уникальных значений в столбце\n",
      "Ticket - 680 уникальных значений в столбце\n",
      "Embarked - 3 уникальных значений в столбце\n"
     ]
    }
   ],
   "source": [
    "# Найдем полезные категориальные данные\n",
    "obj_df = df.select_dtypes(include = ['object']).copy() # Выбираем данные типа \"object\"\n",
    "for column in obj_df: # Идем по данным типа \"object\"\n",
    "    print(f'{column} -', len(obj_df[column].unique()), 'уникальных значений в столбце')"
   ]
  },
  {
   "cell_type": "code",
   "execution_count": 8,
   "id": "c9205937",
   "metadata": {},
   "outputs": [
    {
     "data": {
      "text/html": [
       "<div>\n",
       "<style scoped>\n",
       "    .dataframe tbody tr th:only-of-type {\n",
       "        vertical-align: middle;\n",
       "    }\n",
       "\n",
       "    .dataframe tbody tr th {\n",
       "        vertical-align: top;\n",
       "    }\n",
       "\n",
       "    .dataframe thead th {\n",
       "        text-align: right;\n",
       "    }\n",
       "</style>\n",
       "<table border=\"1\" class=\"dataframe\">\n",
       "  <thead>\n",
       "    <tr style=\"text-align: right;\">\n",
       "      <th></th>\n",
       "      <th>Survived</th>\n",
       "      <th>Pclass</th>\n",
       "      <th>Sex</th>\n",
       "      <th>SibSp</th>\n",
       "      <th>Parch</th>\n",
       "      <th>Fare</th>\n",
       "      <th>Embarked</th>\n",
       "    </tr>\n",
       "  </thead>\n",
       "  <tbody>\n",
       "    <tr>\n",
       "      <th>0</th>\n",
       "      <td>0</td>\n",
       "      <td>3</td>\n",
       "      <td>male</td>\n",
       "      <td>1</td>\n",
       "      <td>0</td>\n",
       "      <td>7.2500</td>\n",
       "      <td>S</td>\n",
       "    </tr>\n",
       "    <tr>\n",
       "      <th>1</th>\n",
       "      <td>1</td>\n",
       "      <td>1</td>\n",
       "      <td>female</td>\n",
       "      <td>1</td>\n",
       "      <td>0</td>\n",
       "      <td>71.2833</td>\n",
       "      <td>C</td>\n",
       "    </tr>\n",
       "    <tr>\n",
       "      <th>2</th>\n",
       "      <td>1</td>\n",
       "      <td>3</td>\n",
       "      <td>female</td>\n",
       "      <td>0</td>\n",
       "      <td>0</td>\n",
       "      <td>7.9250</td>\n",
       "      <td>S</td>\n",
       "    </tr>\n",
       "    <tr>\n",
       "      <th>3</th>\n",
       "      <td>1</td>\n",
       "      <td>1</td>\n",
       "      <td>female</td>\n",
       "      <td>1</td>\n",
       "      <td>0</td>\n",
       "      <td>53.1000</td>\n",
       "      <td>S</td>\n",
       "    </tr>\n",
       "    <tr>\n",
       "      <th>4</th>\n",
       "      <td>0</td>\n",
       "      <td>3</td>\n",
       "      <td>male</td>\n",
       "      <td>0</td>\n",
       "      <td>0</td>\n",
       "      <td>8.0500</td>\n",
       "      <td>S</td>\n",
       "    </tr>\n",
       "  </tbody>\n",
       "</table>\n",
       "</div>"
      ],
      "text/plain": [
       "   Survived  Pclass     Sex  SibSp  Parch     Fare Embarked\n",
       "0         0       3    male      1      0   7.2500        S\n",
       "1         1       1  female      1      0  71.2833        C\n",
       "2         1       3  female      0      0   7.9250        S\n",
       "3         1       1  female      1      0  53.1000        S\n",
       "4         0       3    male      0      0   8.0500        S"
      ]
     },
     "execution_count": 8,
     "metadata": {},
     "output_type": "execute_result"
    }
   ],
   "source": [
    "# Удалим номера билетов и имена пассажиров, так как эти данные не несут в себе полезной информации\n",
    "df.drop(['PassengerId', 'Name', 'Ticket'], axis = 1, inplace = True)\n",
    "df.head()"
   ]
  },
  {
   "cell_type": "markdown",
   "id": "bc2d1812",
   "metadata": {},
   "source": [
    "Закодирум столбцы \"Sex\" и \"Embarked\" в числовой формат"
   ]
  },
  {
   "cell_type": "code",
   "execution_count": 9,
   "id": "6d373dcc",
   "metadata": {},
   "outputs": [
    {
     "data": {
      "text/html": [
       "<div>\n",
       "<style scoped>\n",
       "    .dataframe tbody tr th:only-of-type {\n",
       "        vertical-align: middle;\n",
       "    }\n",
       "\n",
       "    .dataframe tbody tr th {\n",
       "        vertical-align: top;\n",
       "    }\n",
       "\n",
       "    .dataframe thead th {\n",
       "        text-align: right;\n",
       "    }\n",
       "</style>\n",
       "<table border=\"1\" class=\"dataframe\">\n",
       "  <thead>\n",
       "    <tr style=\"text-align: right;\">\n",
       "      <th></th>\n",
       "      <th>Survived</th>\n",
       "      <th>Pclass</th>\n",
       "      <th>Sex</th>\n",
       "      <th>SibSp</th>\n",
       "      <th>Parch</th>\n",
       "      <th>Fare</th>\n",
       "      <th>Embarked</th>\n",
       "    </tr>\n",
       "  </thead>\n",
       "  <tbody>\n",
       "    <tr>\n",
       "      <th>0</th>\n",
       "      <td>0</td>\n",
       "      <td>3</td>\n",
       "      <td>1.0</td>\n",
       "      <td>1</td>\n",
       "      <td>0</td>\n",
       "      <td>7.2500</td>\n",
       "      <td>2.0</td>\n",
       "    </tr>\n",
       "    <tr>\n",
       "      <th>1</th>\n",
       "      <td>1</td>\n",
       "      <td>1</td>\n",
       "      <td>0.0</td>\n",
       "      <td>1</td>\n",
       "      <td>0</td>\n",
       "      <td>71.2833</td>\n",
       "      <td>0.0</td>\n",
       "    </tr>\n",
       "    <tr>\n",
       "      <th>2</th>\n",
       "      <td>1</td>\n",
       "      <td>3</td>\n",
       "      <td>0.0</td>\n",
       "      <td>0</td>\n",
       "      <td>0</td>\n",
       "      <td>7.9250</td>\n",
       "      <td>2.0</td>\n",
       "    </tr>\n",
       "    <tr>\n",
       "      <th>3</th>\n",
       "      <td>1</td>\n",
       "      <td>1</td>\n",
       "      <td>0.0</td>\n",
       "      <td>1</td>\n",
       "      <td>0</td>\n",
       "      <td>53.1000</td>\n",
       "      <td>2.0</td>\n",
       "    </tr>\n",
       "    <tr>\n",
       "      <th>4</th>\n",
       "      <td>0</td>\n",
       "      <td>3</td>\n",
       "      <td>1.0</td>\n",
       "      <td>0</td>\n",
       "      <td>0</td>\n",
       "      <td>8.0500</td>\n",
       "      <td>2.0</td>\n",
       "    </tr>\n",
       "  </tbody>\n",
       "</table>\n",
       "</div>"
      ],
      "text/plain": [
       "   Survived  Pclass  Sex  SibSp  Parch     Fare  Embarked\n",
       "0         0       3  1.0      1      0   7.2500       2.0\n",
       "1         1       1  0.0      1      0  71.2833       0.0\n",
       "2         1       3  0.0      0      0   7.9250       2.0\n",
       "3         1       1  0.0      1      0  53.1000       2.0\n",
       "4         0       3  1.0      0      0   8.0500       2.0"
      ]
     },
     "execution_count": 9,
     "metadata": {},
     "output_type": "execute_result"
    }
   ],
   "source": [
    "ord_enc = OrdinalEncoder()\n",
    "df['Sex'] = ord_enc.fit_transform(df[['Sex']])\n",
    "df['Embarked'] = ord_enc.fit_transform(df[['Embarked']])\n",
    "df.head()"
   ]
  },
  {
   "cell_type": "code",
   "execution_count": 10,
   "id": "313391bc",
   "metadata": {},
   "outputs": [
    {
     "name": "stdout",
     "output_type": "stream",
     "text": [
      "<class 'pandas.core.frame.DataFrame'>\n",
      "RangeIndex: 889 entries, 0 to 888\n",
      "Data columns (total 7 columns):\n",
      " #   Column    Non-Null Count  Dtype  \n",
      "---  ------    --------------  -----  \n",
      " 0   Survived  889 non-null    int64  \n",
      " 1   Pclass    889 non-null    int64  \n",
      " 2   Sex       889 non-null    float64\n",
      " 3   SibSp     889 non-null    int64  \n",
      " 4   Parch     889 non-null    int64  \n",
      " 5   Fare      889 non-null    float64\n",
      " 6   Embarked  889 non-null    float64\n",
      "dtypes: float64(3), int64(4)\n",
      "memory usage: 48.7 KB\n"
     ]
    }
   ],
   "source": [
    "df.info()"
   ]
  },
  {
   "cell_type": "markdown",
   "id": "9d172f28",
   "metadata": {},
   "source": [
    "## Работа с выбросами"
   ]
  },
  {
   "cell_type": "code",
   "execution_count": 11,
   "id": "7033c55d",
   "metadata": {
    "scrolled": false
   },
   "outputs": [
    {
     "name": "stdout",
     "output_type": "stream",
     "text": [
      "Survived\n"
     ]
    },
    {
     "data": {
      "image/png": "[encoded data removed]",
      "text/plain": [
       "<Figure size 432x288 with 1 Axes>"
      ]
     },
     "metadata": {
      "needs_background": "light"
     },
     "output_type": "display_data"
    },
    {
     "name": "stdout",
     "output_type": "stream",
     "text": [
      "Pclass\n"
     ]
    },
    {
     "data": {
      "image/png": "[encoded data removed]",
      "text/plain": [
       "<Figure size 432x288 with 1 Axes>"
      ]
     },
     "metadata": {
      "needs_background": "light"
     },
     "output_type": "display_data"
    },
    {
     "name": "stdout",
     "output_type": "stream",
     "text": [
      "Sex\n"
     ]
    },
    {
     "data": {
      "image/png": "[encoded data removed]",
      "text/plain": [
       "<Figure size 432x288 with 1 Axes>"
      ]
     },
     "metadata": {
      "needs_background": "light"
     },
     "output_type": "display_data"
    },
    {
     "name": "stdout",
     "output_type": "stream",
     "text": [
      "SibSp\n"
     ]
    },
    {
     "data": {
      "image/png": "[encoded data removed]",
      "text/plain": [
       "<Figure size 432x288 with 1 Axes>"
      ]
     },
     "metadata": {
      "needs_background": "light"
     },
     "output_type": "display_data"
    },
    {
     "name": "stdout",
     "output_type": "stream",
     "text": [
      "Parch\n"
     ]
    },
    {
     "data": {
      "image/png": "[encoded data removed]",
      "text/plain": [
       "<Figure size 432x288 with 1 Axes>"
      ]
     },
     "metadata": {
      "needs_background": "light"
     },
     "output_type": "display_data"
    },
    {
     "name": "stdout",
     "output_type": "stream",
     "text": [
      "Fare\n"
     ]
    },
    {
     "data": {
      "image/png": "[encoded data removed]",
      "text/plain": [
       "<Figure size 432x288 with 1 Axes>"
      ]
     },
     "metadata": {
      "needs_background": "light"
     },
     "output_type": "display_data"
    },
    {
     "name": "stdout",
     "output_type": "stream",
     "text": [
      "Embarked\n"
     ]
    },
    {
     "data": {
      "image/png": "[encoded data removed]",
      "text/plain": [
       "<Figure size 432x288 with 1 Axes>"
      ]
     },
     "metadata": {
      "needs_background": "light"
     },
     "output_type": "display_data"
    }
   ],
   "source": [
    "# Отобразим графики, чтобы узнать какие атрибуты имеют выбросы\n",
    "for column in df:\n",
    "    print(column)\n",
    "    sns.boxplot(data = df[column])\n",
    "    plt.show()"
   ]
  },
  {
   "cell_type": "markdown",
   "id": "4c4702b5",
   "metadata": {},
   "source": [
    "Необходимо удалить выбросы из столбцов \"Fare\", \"SibSp\", и \"Parch\"\n",
    "\n",
    "Для этого найдем первый и третий квартили"
   ]
  },
  {
   "cell_type": "code",
   "execution_count": 12,
   "id": "1545447c",
   "metadata": {},
   "outputs": [],
   "source": [
    "for column in [\"Fare\", \"SibSp\", \"Parch\"]:\n",
    "    Q1 = df[column].quantile(0.25) # Первый квартиль\n",
    "    Q3 = df[column].quantile(0.75) # Третий квартиль\n",
    "    IQR = Q3 - Q1 # Межквартильный диапазон  \n",
    "    df = df.loc[(df[column] >= Q1-1.5*IQR ) & (df[column] <= Q3+1.5*IQR)] # Удаляем выбросы\n",
    "\n",
    "df = df.reset_index(drop = True) # Сбрасываем индексы"
   ]
  },
  {
   "cell_type": "markdown",
   "id": "acadd7a5",
   "metadata": {},
   "source": [
    "Так как при изменении выбросов на самое частое значение в столбце \"Parch\" получилось только одно значение, то удалим его, так как он не несет полезной информации"
   ]
  },
  {
   "cell_type": "code",
   "execution_count": 13,
   "id": "9a42dd53",
   "metadata": {},
   "outputs": [],
   "source": [
    "df.drop(['Parch'], inplace = True, axis = 1)"
   ]
  },
  {
   "cell_type": "markdown",
   "id": "ecfd2b2f",
   "metadata": {},
   "source": [
    "## Нормализация данных"
   ]
  },
  {
   "cell_type": "markdown",
   "id": "41f826c0",
   "metadata": {},
   "source": [
    "Нормализуем все данные"
   ]
  },
  {
   "cell_type": "code",
   "execution_count": 14,
   "id": "f0f70b78",
   "metadata": {},
   "outputs": [
    {
     "name": "stderr",
     "output_type": "stream",
     "text": [
      "C:\\Users\\denis\\AppData\\Local\\Temp/ipykernel_11072/2935175220.py:5: SettingWithCopyWarning: \n",
      "A value is trying to be set on a copy of a slice from a DataFrame\n",
      "\n",
      "See the caveats in the documentation: https://pandas.pydata.org/pandas-docs/stable/user_guide/indexing.html#returning-a-view-versus-a-copy\n",
      "  df[column][i] = (maximum - df[column][i])/(maximum - minimum)\n"
     ]
    },
    {
     "data": {
      "text/html": [
       "<div>\n",
       "<style scoped>\n",
       "    .dataframe tbody tr th:only-of-type {\n",
       "        vertical-align: middle;\n",
       "    }\n",
       "\n",
       "    .dataframe tbody tr th {\n",
       "        vertical-align: top;\n",
       "    }\n",
       "\n",
       "    .dataframe thead th {\n",
       "        text-align: right;\n",
       "    }\n",
       "</style>\n",
       "<table border=\"1\" class=\"dataframe\">\n",
       "  <thead>\n",
       "    <tr style=\"text-align: right;\">\n",
       "      <th></th>\n",
       "      <th>Survived</th>\n",
       "      <th>Pclass</th>\n",
       "      <th>Sex</th>\n",
       "      <th>SibSp</th>\n",
       "      <th>Fare</th>\n",
       "      <th>Embarked</th>\n",
       "    </tr>\n",
       "  </thead>\n",
       "  <tbody>\n",
       "    <tr>\n",
       "      <th>0</th>\n",
       "      <td>1</td>\n",
       "      <td>0</td>\n",
       "      <td>0.0</td>\n",
       "      <td>0</td>\n",
       "      <td>0.881488</td>\n",
       "      <td>0.0</td>\n",
       "    </tr>\n",
       "    <tr>\n",
       "      <th>1</th>\n",
       "      <td>0</td>\n",
       "      <td>0</td>\n",
       "      <td>1.0</td>\n",
       "      <td>1</td>\n",
       "      <td>0.870454</td>\n",
       "      <td>0.0</td>\n",
       "    </tr>\n",
       "    <tr>\n",
       "      <th>2</th>\n",
       "      <td>0</td>\n",
       "      <td>1</td>\n",
       "      <td>1.0</td>\n",
       "      <td>0</td>\n",
       "      <td>0.131998</td>\n",
       "      <td>0.0</td>\n",
       "    </tr>\n",
       "    <tr>\n",
       "      <th>3</th>\n",
       "      <td>1</td>\n",
       "      <td>0</td>\n",
       "      <td>0.0</td>\n",
       "      <td>1</td>\n",
       "      <td>0.868410</td>\n",
       "      <td>0.0</td>\n",
       "    </tr>\n",
       "    <tr>\n",
       "      <th>4</th>\n",
       "      <td>1</td>\n",
       "      <td>0</td>\n",
       "      <td>0.0</td>\n",
       "      <td>1</td>\n",
       "      <td>0.861736</td>\n",
       "      <td>0.5</td>\n",
       "    </tr>\n",
       "  </tbody>\n",
       "</table>\n",
       "</div>"
      ],
      "text/plain": [
       "   Survived  Pclass  Sex  SibSp      Fare  Embarked\n",
       "0         1       0  0.0      0  0.881488       0.0\n",
       "1         0       0  1.0      1  0.870454       0.0\n",
       "2         0       1  1.0      0  0.131998       0.0\n",
       "3         1       0  0.0      1  0.868410       0.0\n",
       "4         1       0  0.0      1  0.861736       0.5"
      ]
     },
     "execution_count": 14,
     "metadata": {},
     "output_type": "execute_result"
    }
   ],
   "source": [
    "for column in df:\n",
    "    maximum = df[column].max()\n",
    "    minimum = df[column].min()\n",
    "    for i in range(len(df[column])):\n",
    "        df[column][i] = (maximum - df[column][i])/(maximum - minimum)\n",
    "df.head()"
   ]
  },
  {
   "cell_type": "markdown",
   "id": "8da1243e",
   "metadata": {},
   "source": [
    "# Машинное обучение\n",
    "\n",
    "## Подготовка данных"
   ]
  },
  {
   "cell_type": "markdown",
   "id": "4f5acdf0",
   "metadata": {},
   "source": [
    "Заранее загрузим тестовые данные"
   ]
  },
  {
   "cell_type": "code",
   "execution_count": 15,
   "id": "d2685158",
   "metadata": {},
   "outputs": [
    {
     "name": "stdout",
     "output_type": "stream",
     "text": [
      "418 x 11\n",
      "418 x 2\n"
     ]
    },
    {
     "data": {
      "text/html": [
       "<div>\n",
       "<style scoped>\n",
       "    .dataframe tbody tr th:only-of-type {\n",
       "        vertical-align: middle;\n",
       "    }\n",
       "\n",
       "    .dataframe tbody tr th {\n",
       "        vertical-align: top;\n",
       "    }\n",
       "\n",
       "    .dataframe thead th {\n",
       "        text-align: right;\n",
       "    }\n",
       "</style>\n",
       "<table border=\"1\" class=\"dataframe\">\n",
       "  <thead>\n",
       "    <tr style=\"text-align: right;\">\n",
       "      <th></th>\n",
       "      <th>PassengerId</th>\n",
       "      <th>Pclass</th>\n",
       "      <th>Name</th>\n",
       "      <th>Sex</th>\n",
       "      <th>Age</th>\n",
       "      <th>SibSp</th>\n",
       "      <th>Parch</th>\n",
       "      <th>Ticket</th>\n",
       "      <th>Fare</th>\n",
       "      <th>Cabin</th>\n",
       "      <th>Embarked</th>\n",
       "      <th>Survived</th>\n",
       "    </tr>\n",
       "  </thead>\n",
       "  <tbody>\n",
       "    <tr>\n",
       "      <th>0</th>\n",
       "      <td>892</td>\n",
       "      <td>3</td>\n",
       "      <td>Kelly, Mr. James</td>\n",
       "      <td>male</td>\n",
       "      <td>34.5</td>\n",
       "      <td>0</td>\n",
       "      <td>0</td>\n",
       "      <td>330911</td>\n",
       "      <td>7.8292</td>\n",
       "      <td>NaN</td>\n",
       "      <td>Q</td>\n",
       "      <td>0</td>\n",
       "    </tr>\n",
       "    <tr>\n",
       "      <th>1</th>\n",
       "      <td>893</td>\n",
       "      <td>3</td>\n",
       "      <td>Wilkes, Mrs. James (Ellen Needs)</td>\n",
       "      <td>female</td>\n",
       "      <td>47.0</td>\n",
       "      <td>1</td>\n",
       "      <td>0</td>\n",
       "      <td>363272</td>\n",
       "      <td>7.0000</td>\n",
       "      <td>NaN</td>\n",
       "      <td>S</td>\n",
       "      <td>1</td>\n",
       "    </tr>\n",
       "    <tr>\n",
       "      <th>2</th>\n",
       "      <td>894</td>\n",
       "      <td>2</td>\n",
       "      <td>Myles, Mr. Thomas Francis</td>\n",
       "      <td>male</td>\n",
       "      <td>62.0</td>\n",
       "      <td>0</td>\n",
       "      <td>0</td>\n",
       "      <td>240276</td>\n",
       "      <td>9.6875</td>\n",
       "      <td>NaN</td>\n",
       "      <td>Q</td>\n",
       "      <td>0</td>\n",
       "    </tr>\n",
       "    <tr>\n",
       "      <th>3</th>\n",
       "      <td>895</td>\n",
       "      <td>3</td>\n",
       "      <td>Wirz, Mr. Albert</td>\n",
       "      <td>male</td>\n",
       "      <td>27.0</td>\n",
       "      <td>0</td>\n",
       "      <td>0</td>\n",
       "      <td>315154</td>\n",
       "      <td>8.6625</td>\n",
       "      <td>NaN</td>\n",
       "      <td>S</td>\n",
       "      <td>0</td>\n",
       "    </tr>\n",
       "    <tr>\n",
       "      <th>4</th>\n",
       "      <td>896</td>\n",
       "      <td>3</td>\n",
       "      <td>Hirvonen, Mrs. Alexander (Helga E Lindqvist)</td>\n",
       "      <td>female</td>\n",
       "      <td>22.0</td>\n",
       "      <td>1</td>\n",
       "      <td>1</td>\n",
       "      <td>3101298</td>\n",
       "      <td>12.2875</td>\n",
       "      <td>NaN</td>\n",
       "      <td>S</td>\n",
       "      <td>1</td>\n",
       "    </tr>\n",
       "  </tbody>\n",
       "</table>\n",
       "</div>"
      ],
      "text/plain": [
       "   PassengerId  Pclass                                          Name     Sex  \\\n",
       "0          892       3                              Kelly, Mr. James    male   \n",
       "1          893       3              Wilkes, Mrs. James (Ellen Needs)  female   \n",
       "2          894       2                     Myles, Mr. Thomas Francis    male   \n",
       "3          895       3                              Wirz, Mr. Albert    male   \n",
       "4          896       3  Hirvonen, Mrs. Alexander (Helga E Lindqvist)  female   \n",
       "\n",
       "    Age  SibSp  Parch   Ticket     Fare Cabin Embarked  Survived  \n",
       "0  34.5      0      0   330911   7.8292   NaN        Q         0  \n",
       "1  47.0      1      0   363272   7.0000   NaN        S         1  \n",
       "2  62.0      0      0   240276   9.6875   NaN        Q         0  \n",
       "3  27.0      0      0   315154   8.6625   NaN        S         0  \n",
       "4  22.0      1      1  3101298  12.2875   NaN        S         1  "
      ]
     },
     "execution_count": 15,
     "metadata": {},
     "output_type": "execute_result"
    }
   ],
   "source": [
    "# Тестовые данные\n",
    "df_test = pd.read_csv('test.csv')\n",
    "print(len(df_test), 'x', len(df_test.T))\n",
    "\n",
    "# Ответы на тестовые данные\n",
    "df_sex = pd.read_csv('gender_submission.csv')\n",
    "print(len(df_sex), 'x', len(df_sex.T))\n",
    "\n",
    "# Объеденим датасеты\n",
    "df_test = pd.merge(df_test, df_sex)\n",
    "df_test.head()"
   ]
  },
  {
   "cell_type": "markdown",
   "id": "6b9c9b9e",
   "metadata": {},
   "source": [
    "Проведем предобработку данных, которая была проделана для обучающих данных"
   ]
  },
  {
   "cell_type": "code",
   "execution_count": 16,
   "id": "2a7d9d46",
   "metadata": {},
   "outputs": [
    {
     "name": "stderr",
     "output_type": "stream",
     "text": [
      "C:\\Users\\denis\\AppData\\Local\\Temp/ipykernel_11072/1980897123.py:21: SettingWithCopyWarning: \n",
      "A value is trying to be set on a copy of a slice from a DataFrame\n",
      "\n",
      "See the caveats in the documentation: https://pandas.pydata.org/pandas-docs/stable/user_guide/indexing.html#returning-a-view-versus-a-copy\n",
      "  df_test[column][i] = (maximum - df_test[column][i])/(maximum - minimum)\n"
     ]
    },
    {
     "data": {
      "text/html": [
       "<div>\n",
       "<style scoped>\n",
       "    .dataframe tbody tr th:only-of-type {\n",
       "        vertical-align: middle;\n",
       "    }\n",
       "\n",
       "    .dataframe tbody tr th {\n",
       "        vertical-align: top;\n",
       "    }\n",
       "\n",
       "    .dataframe thead th {\n",
       "        text-align: right;\n",
       "    }\n",
       "</style>\n",
       "<table border=\"1\" class=\"dataframe\">\n",
       "  <thead>\n",
       "    <tr style=\"text-align: right;\">\n",
       "      <th></th>\n",
       "      <th>Survived</th>\n",
       "      <th>Pclass</th>\n",
       "      <th>Sex</th>\n",
       "      <th>SibSp</th>\n",
       "      <th>Fare</th>\n",
       "      <th>Embarked</th>\n",
       "    </tr>\n",
       "  </thead>\n",
       "  <tbody>\n",
       "    <tr>\n",
       "      <th>0</th>\n",
       "      <td>0</td>\n",
       "      <td>1</td>\n",
       "      <td>1.0</td>\n",
       "      <td>1</td>\n",
       "      <td>0.118512</td>\n",
       "      <td>1.0</td>\n",
       "    </tr>\n",
       "    <tr>\n",
       "      <th>1</th>\n",
       "      <td>1</td>\n",
       "      <td>1</td>\n",
       "      <td>0.0</td>\n",
       "      <td>0</td>\n",
       "      <td>0.129546</td>\n",
       "      <td>1.0</td>\n",
       "    </tr>\n",
       "    <tr>\n",
       "      <th>2</th>\n",
       "      <td>1</td>\n",
       "      <td>0</td>\n",
       "      <td>0.0</td>\n",
       "      <td>1</td>\n",
       "      <td>0.868002</td>\n",
       "      <td>1.0</td>\n",
       "    </tr>\n",
       "    <tr>\n",
       "      <th>3</th>\n",
       "      <td>0</td>\n",
       "      <td>1</td>\n",
       "      <td>1.0</td>\n",
       "      <td>0</td>\n",
       "      <td>0.131590</td>\n",
       "      <td>1.0</td>\n",
       "    </tr>\n",
       "    <tr>\n",
       "      <th>4</th>\n",
       "      <td>0</td>\n",
       "      <td>1</td>\n",
       "      <td>1.0</td>\n",
       "      <td>0</td>\n",
       "      <td>0.138264</td>\n",
       "      <td>0.5</td>\n",
       "    </tr>\n",
       "  </tbody>\n",
       "</table>\n",
       "</div>"
      ],
      "text/plain": [
       "   Survived  Pclass  Sex  SibSp      Fare  Embarked\n",
       "0         0       1  1.0      1  0.118512       1.0\n",
       "1         1       1  0.0      0  0.129546       1.0\n",
       "2         1       0  0.0      1  0.868002       1.0\n",
       "3         0       1  1.0      0  0.131590       1.0\n",
       "4         0       1  1.0      0  0.138264       0.5"
      ]
     },
     "execution_count": 16,
     "metadata": {},
     "output_type": "execute_result"
    }
   ],
   "source": [
    "# Удаление лишних столбцов\n",
    "NOT_DEL = {'Survived', 'Pclass', 'Sex', 'SibSp', 'Fare', 'Embarked'} # Столбцы, которые останутся\n",
    "for column in df_test: # Цикл по столбцам\n",
    "    if column not in NOT_DEL:\n",
    "        df_test.drop(column, axis = 1, inplace = True)\n",
    "        \n",
    "# Удаление строк с пустыми значениями\n",
    "df_test.dropna(inplace = True)\n",
    "df_test = df.reset_index(drop = True) # Сбрасываем индексы\n",
    "\n",
    "# Кодировка категориальных данных\n",
    "ord_enc = OrdinalEncoder()\n",
    "df_test['Sex'] = ord_enc.fit_transform(df_test[['Sex']])\n",
    "df_test['Embarked'] = ord_enc.fit_transform(df_test[['Embarked']])\n",
    "\n",
    "# Нормализация данных\n",
    "for column in df_test:\n",
    "    maximum = df_test[column].max()\n",
    "    minimum = df_test[column].min()\n",
    "    for i in range(len(df_test[column])):\n",
    "        df_test[column][i] = (maximum - df_test[column][i])/(maximum - minimum)\n",
    "df_test.head()"
   ]
  },
  {
   "cell_type": "markdown",
   "id": "23843d9e",
   "metadata": {},
   "source": [
    "Тестовые данные готовы к работе"
   ]
  },
  {
   "cell_type": "code",
   "execution_count": 17,
   "id": "ffaa9d97",
   "metadata": {},
   "outputs": [],
   "source": [
    "# Разделим обучающие и тестовые данные на входные и ответы\n",
    "x_train = df[['Pclass', 'Sex', 'SibSp', 'Fare', 'Embarked']]\n",
    "y_train = df['Survived']\n",
    "\n",
    "x_test = df_test[['Pclass', 'Sex', 'SibSp', 'Fare', 'Embarked']]\n",
    "y_test = df_test['Survived']"
   ]
  },
  {
   "cell_type": "markdown",
   "id": "874b762a",
   "metadata": {},
   "source": [
    "## Дерево решений"
   ]
  },
  {
   "cell_type": "code",
   "execution_count": 18,
   "id": "7b60b489",
   "metadata": {},
   "outputs": [
    {
     "name": "stdout",
     "output_type": "stream",
     "text": [
      "Точность алгоритма: 0.8056013179571664\n",
      "[[390  38]\n",
      " [ 80  99]]\n",
      "              precision    recall  f1-score   support\n",
      "\n",
      "           0       0.83      0.91      0.87       428\n",
      "           1       0.72      0.55      0.63       179\n",
      "\n",
      "    accuracy                           0.81       607\n",
      "   macro avg       0.78      0.73      0.75       607\n",
      "weighted avg       0.80      0.81      0.80       607\n",
      "\n"
     ]
    }
   ],
   "source": [
    "from sklearn.tree import DecisionTreeClassifier # Импортируем модель дерева решений\n",
    "\n",
    "classifier = DecisionTreeClassifier()\n",
    "classifier = classifier.fit(x_train, y_train)\n",
    "y_pred = classifier.predict(x_test)\n",
    "\n",
    "print('Точность алгоритма:', accuracy_score(y_test, y_pred))\n",
    "print(confusion_matrix(y_test, y_pred))\n",
    "print(classification_report(y_test, y_pred))"
   ]
  },
  {
   "cell_type": "markdown",
   "id": "8440df73",
   "metadata": {},
   "source": [
    "## К-ближайших соседей"
   ]
  },
  {
   "cell_type": "code",
   "execution_count": 19,
   "id": "c55a4abd",
   "metadata": {},
   "outputs": [
    {
     "name": "stdout",
     "output_type": "stream",
     "text": [
      "Точность алгоритма: 0.7413509060955519\n",
      "[[384  44]\n",
      " [113  66]]\n",
      "              precision    recall  f1-score   support\n",
      "\n",
      "           0       0.77      0.90      0.83       428\n",
      "           1       0.60      0.37      0.46       179\n",
      "\n",
      "    accuracy                           0.74       607\n",
      "   macro avg       0.69      0.63      0.64       607\n",
      "weighted avg       0.72      0.74      0.72       607\n",
      "\n"
     ]
    }
   ],
   "source": [
    "from sklearn.neighbors import KNeighborsClassifier # Импортируем модель К-ближайших соседей\n",
    "\n",
    "classifier = KNeighborsClassifier()\n",
    "classifier = classifier.fit(x_train, y_train)\n",
    "y_pred = classifier.predict(x_test)\n",
    "\n",
    "print('Точность алгоритма:', accuracy_score(y_test, y_pred))\n",
    "print(confusion_matrix(y_test, y_pred))\n",
    "print(classification_report(y_test, y_pred))"
   ]
  },
  {
   "cell_type": "markdown",
   "id": "c554fabc",
   "metadata": {},
   "source": [
    "## Метод опорных векторов"
   ]
  },
  {
   "cell_type": "code",
   "execution_count": 20,
   "id": "b0080e9b",
   "metadata": {},
   "outputs": [
    {
     "name": "stdout",
     "output_type": "stream",
     "text": [
      "Точность алгоритма: 0.8121911037891268\n",
      "[[387  41]\n",
      " [ 73 106]]\n",
      "              precision    recall  f1-score   support\n",
      "\n",
      "           0       0.84      0.90      0.87       428\n",
      "           1       0.72      0.59      0.65       179\n",
      "\n",
      "    accuracy                           0.81       607\n",
      "   macro avg       0.78      0.75      0.76       607\n",
      "weighted avg       0.81      0.81      0.81       607\n",
      "\n"
     ]
    }
   ],
   "source": [
    "from sklearn.svm import SVC # Импортируем метод опорных векторов\n",
    "\n",
    "classifier = SVC(kernel='linear')\n",
    "classifier.fit(x_train, y_train)\n",
    "y_pred = classifier.predict(x_test)\n",
    "\n",
    "print('Точность алгоритма:', accuracy_score(y_test, y_pred))\n",
    "print(confusion_matrix(y_test, y_pred))\n",
    "print(classification_report(y_test, y_pred))"
   ]
  },
  {
   "cell_type": "markdown",
   "id": "41d1e468",
   "metadata": {},
   "source": [
    "## Нейронная сеть через PyTorch"
   ]
  },
  {
   "cell_type": "code",
   "execution_count": 21,
   "id": "2057a34d",
   "metadata": {},
   "outputs": [],
   "source": [
    "class Titan(nn.Module):\n",
    "    def __init__(self):\n",
    "        super(Titan, self).__init__()\n",
    "        self.fc1 = nn.Linear(5, 10)\n",
    "        self.fc2 = nn.Linear(10, 1)\n",
    "    def forward(self, x):\n",
    "        x = x.reshape(1, -1)\n",
    "        x = F.relu(self.fc1(x))\n",
    "        x = self.fc2(x)\n",
    "        return F.sigmoid(x)"
   ]
  },
  {
   "cell_type": "code",
   "execution_count": 22,
   "id": "02ac0ef1",
   "metadata": {},
   "outputs": [
    {
     "name": "stdout",
     "output_type": "stream",
     "text": [
      "Train Epoch: 0 [0/606 (0%)]tLoss: 0.825637\n",
      "Train Epoch: 0 [303/606 (50%)]tLoss: 0.546122\n"
     ]
    },
    {
     "name": "stderr",
     "output_type": "stream",
     "text": [
      "C:\\Users\\denis\\anaconda3\\lib\\site-packages\\torch\\nn\\functional.py:1960: UserWarning: nn.functional.sigmoid is deprecated. Use torch.sigmoid instead.\n",
      "  warnings.warn(\"nn.functional.sigmoid is deprecated. Use torch.sigmoid instead.\")\n"
     ]
    },
    {
     "name": "stdout",
     "output_type": "stream",
     "text": [
      "Train Epoch: 0 [606/606 (100%)]tLoss: 0.075800\n",
      "Train Epoch: 1 [0/606 (0%)]tLoss: 0.109143\n",
      "Train Epoch: 1 [303/606 (50%)]tLoss: 0.503204\n",
      "Train Epoch: 1 [606/606 (100%)]tLoss: 0.073228\n",
      "Train Epoch: 2 [0/606 (0%)]tLoss: 0.072580\n",
      "Train Epoch: 2 [303/606 (50%)]tLoss: 0.505364\n",
      "Train Epoch: 2 [606/606 (100%)]tLoss: 0.076986\n",
      "Train Epoch: 3 [0/606 (0%)]tLoss: 0.061126\n",
      "Train Epoch: 3 [303/606 (50%)]tLoss: 0.453872\n",
      "Train Epoch: 3 [606/606 (100%)]tLoss: 0.067898\n",
      "Train Epoch: 4 [0/606 (0%)]tLoss: 0.034301\n",
      "Train Epoch: 4 [303/606 (50%)]tLoss: 0.441916\n",
      "Train Epoch: 4 [606/606 (100%)]tLoss: 0.070563\n"
     ]
    }
   ],
   "source": [
    "titan = Titan()\n",
    "\n",
    "# Осуществляем оптимизацию путем стохастического градиентного спуска\n",
    "optimizer = torch.optim.SGD(titan.parameters(), lr=0.01, momentum=0.9)\n",
    "\n",
    "# Создаем функцию потерь\n",
    "criterion = nn.BCELoss()\n",
    "\n",
    "\n",
    "epochs = 5 # Количество эпох\n",
    "log_interval = 303 # интервал отслеживания процесса\n",
    "running_loss = 0 # Для вычисления величины ошибок\n",
    "\n",
    "# Подготовка тренировочных данных для модели\n",
    "torch_tensor_train = torch.tensor(x_train[['Pclass', 'Sex', 'SibSp', 'Fare', 'Embarked']].values)\n",
    "torch_tensor_target = torch.tensor(y_train.values)\n",
    "data, target = Variable(torch_tensor_train.float()), Variable(torch_tensor_target.float())\n",
    "\n",
    "# Запускаем главный тренировочный цикл\n",
    "for epoch in range(epochs): # Цикл по эпохам\n",
    "    for i in range(len(torch_tensor_train)): # Цикл по тренировочным данным\n",
    "        optimizer.zero_grad()\n",
    "        titan_out = titan(data[i])\n",
    "        loss = criterion(titan_out[0][0], target[i])\n",
    "        loss.backward()\n",
    "        optimizer.step()\n",
    "        running_loss += loss.item()\n",
    "        if i % log_interval == 0 or i == len(torch_tensor_train)-1: # Вывод сообщения для отслеживания прогресса\n",
    "            print('Train Epoch: {} [{}/{} ({:.0f}%)]tLoss: {:.6f}'.format(\n",
    "                   epoch, len(data) - (len(data) - i), len(torch_tensor_train)-1,\n",
    "                          100 * i / len(x_train), loss.data))"
   ]
  },
  {
   "cell_type": "code",
   "execution_count": 23,
   "id": "1a84428f",
   "metadata": {},
   "outputs": [
    {
     "name": "stdout",
     "output_type": "stream",
     "text": [
      "Точность модели: 70.51070840197694 %\n"
     ]
    }
   ],
   "source": [
    "# Подготовка тестовых данных, аналогично тренировочным данным\n",
    "torch_tensor_test = torch.tensor(x_test[['Pclass', 'Sex', 'SibSp', 'Fare', 'Embarked']].values)\n",
    "torch_tensor_target_test = torch.tensor(y_test.values)\n",
    "test_data, test_target = Variable(torch_tensor_test.float()), Variable(torch_tensor_target_test.float())\n",
    "\n",
    "titan.eval() # Переключение в режим оценки (evaluation mode) для модели\n",
    "\n",
    "# Оценка модели на тестовых данных\n",
    "with torch.no_grad():\n",
    "    for i in range(len(x_test)):\n",
    "        test_output = titan(test_data[i])\n",
    "        test_loss = criterion(test_output[0][0], test_target[i])\n",
    "\n",
    "# Расшифровка ответов модели и подсчет точности\n",
    "predicted_classes = (test_output > 0.5).float()\n",
    "accuracy = (predicted_classes == test_target).sum().item() / len(test_target)\n",
    "\n",
    "# print(f\"Ошибка: {test_loss.item()}\")\n",
    "print(f\"Точность модели: {accuracy * 100} %\")"
   ]
  },
  {
   "cell_type": "markdown",
   "id": "71fa6f04",
   "metadata": {},
   "source": [
    "# Вывод\n",
    "1. Были проанализированы исходные данные. Проведена работа с пустыми значениями, выявлены полезные категориальные данные, удалены выбросы, итоговые данные были нормализованы\n",
    "2. Реализовано несколько алгоритмов машинного обучения: дерево решений, к-ближайших соседей, метод опорных векторов. Также реализована модель нейронной сети на основе библиотеки PyTorch\n",
    "3. Все модели справились с заданием на хорошем уровне (70% - 81% точности). Лучше всего с задачей справился метод опорных векторов. Хуже всех - нейронная сеть. Для улучшения работы нейронной сети рекомендуется проводить эксперименты с изменнением архитектуры"
   ]
  }
 ],
 "metadata": {
  "kernelspec": {
   "display_name": "Python 3 (ipykernel)",
   "language": "python",
   "name": "python3"
  },
  "language_info": {
   "codemirror_mode": {
    "name": "ipython",
    "version": 3
   },
   "file_extension": ".py",
   "mimetype": "text/x-python",
   "name": "python",
   "nbconvert_exporter": "python",
   "pygments_lexer": "ipython3",
   "version": "3.9.7"
  }
 },
 "nbformat": 4,
 "nbformat_minor": 5
}
